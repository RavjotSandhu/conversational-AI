{
 "cells": [
  {
   "cell_type": "code",
   "execution_count": 1,
   "id": "bcef53cf",
   "metadata": {
    "execution": {
     "iopub.execute_input": "2022-02-28T21:58:11.329906Z",
     "iopub.status.busy": "2022-02-28T21:58:11.329110Z",
     "iopub.status.idle": "2022-02-28T21:58:14.900135Z",
     "shell.execute_reply": "2022-02-28T21:58:14.899441Z",
     "shell.execute_reply.started": "2022-02-28T21:49:05.866135Z"
    },
    "papermill": {
     "duration": 3.614716,
     "end_time": "2022-02-28T21:58:14.900306",
     "exception": false,
     "start_time": "2022-02-28T21:58:11.285590",
     "status": "completed"
    },
    "tags": []
   },
   "outputs": [],
   "source": [
    "import cupy as np\n",
    "import cudf as pd\n",
    "import matplotlib.pyplot as plt\n",
    "import seaborn as sns"
   ]
  },
  {
   "cell_type": "code",
   "execution_count": 2,
   "id": "4985cf91",
   "metadata": {
    "execution": {
     "iopub.execute_input": "2022-02-28T21:58:14.970687Z",
     "iopub.status.busy": "2022-02-28T21:58:14.969982Z",
     "iopub.status.idle": "2022-02-28T21:58:17.455561Z",
     "shell.execute_reply": "2022-02-28T21:58:17.455993Z",
     "shell.execute_reply.started": "2022-02-28T21:49:05.885952Z"
    },
    "papermill": {
     "duration": 2.520239,
     "end_time": "2022-02-28T21:58:17.456148",
     "exception": false,
     "start_time": "2022-02-28T21:58:14.935909",
     "status": "completed"
    },
    "tags": []
   },
   "outputs": [
    {
     "data": {
      "text/html": [
       "<div>\n",
       "<style scoped>\n",
       "    .dataframe tbody tr th:only-of-type {\n",
       "        vertical-align: middle;\n",
       "    }\n",
       "\n",
       "    .dataframe tbody tr th {\n",
       "        vertical-align: top;\n",
       "    }\n",
       "\n",
       "    .dataframe thead th {\n",
       "        text-align: right;\n",
       "    }\n",
       "</style>\n",
       "<table border=\"1\" class=\"dataframe\">\n",
       "  <thead>\n",
       "    <tr style=\"text-align: right;\">\n",
       "      <th></th>\n",
       "      <th>Id</th>\n",
       "      <th>MSSubClass</th>\n",
       "      <th>MSZoning</th>\n",
       "      <th>LotFrontage</th>\n",
       "      <th>LotArea</th>\n",
       "      <th>Street</th>\n",
       "      <th>Alley</th>\n",
       "      <th>LotShape</th>\n",
       "      <th>LandContour</th>\n",
       "      <th>Utilities</th>\n",
       "      <th>...</th>\n",
       "      <th>PoolArea</th>\n",
       "      <th>PoolQC</th>\n",
       "      <th>Fence</th>\n",
       "      <th>MiscFeature</th>\n",
       "      <th>MiscVal</th>\n",
       "      <th>MoSold</th>\n",
       "      <th>YrSold</th>\n",
       "      <th>SaleType</th>\n",
       "      <th>SaleCondition</th>\n",
       "      <th>SalePrice</th>\n",
       "    </tr>\n",
       "  </thead>\n",
       "  <tbody>\n",
       "    <tr>\n",
       "      <th>0</th>\n",
       "      <td>1</td>\n",
       "      <td>60</td>\n",
       "      <td>RL</td>\n",
       "      <td>65.0</td>\n",
       "      <td>8450</td>\n",
       "      <td>Pave</td>\n",
       "      <td>&lt;NA&gt;</td>\n",
       "      <td>Reg</td>\n",
       "      <td>Lvl</td>\n",
       "      <td>AllPub</td>\n",
       "      <td>...</td>\n",
       "      <td>0</td>\n",
       "      <td>&lt;NA&gt;</td>\n",
       "      <td>&lt;NA&gt;</td>\n",
       "      <td>&lt;NA&gt;</td>\n",
       "      <td>0</td>\n",
       "      <td>2</td>\n",
       "      <td>2008</td>\n",
       "      <td>WD</td>\n",
       "      <td>Normal</td>\n",
       "      <td>208500</td>\n",
       "    </tr>\n",
       "    <tr>\n",
       "      <th>1</th>\n",
       "      <td>2</td>\n",
       "      <td>20</td>\n",
       "      <td>RL</td>\n",
       "      <td>80.0</td>\n",
       "      <td>9600</td>\n",
       "      <td>Pave</td>\n",
       "      <td>&lt;NA&gt;</td>\n",
       "      <td>Reg</td>\n",
       "      <td>Lvl</td>\n",
       "      <td>AllPub</td>\n",
       "      <td>...</td>\n",
       "      <td>0</td>\n",
       "      <td>&lt;NA&gt;</td>\n",
       "      <td>&lt;NA&gt;</td>\n",
       "      <td>&lt;NA&gt;</td>\n",
       "      <td>0</td>\n",
       "      <td>5</td>\n",
       "      <td>2007</td>\n",
       "      <td>WD</td>\n",
       "      <td>Normal</td>\n",
       "      <td>181500</td>\n",
       "    </tr>\n",
       "    <tr>\n",
       "      <th>2</th>\n",
       "      <td>3</td>\n",
       "      <td>60</td>\n",
       "      <td>RL</td>\n",
       "      <td>68.0</td>\n",
       "      <td>11250</td>\n",
       "      <td>Pave</td>\n",
       "      <td>&lt;NA&gt;</td>\n",
       "      <td>IR1</td>\n",
       "      <td>Lvl</td>\n",
       "      <td>AllPub</td>\n",
       "      <td>...</td>\n",
       "      <td>0</td>\n",
       "      <td>&lt;NA&gt;</td>\n",
       "      <td>&lt;NA&gt;</td>\n",
       "      <td>&lt;NA&gt;</td>\n",
       "      <td>0</td>\n",
       "      <td>9</td>\n",
       "      <td>2008</td>\n",
       "      <td>WD</td>\n",
       "      <td>Normal</td>\n",
       "      <td>223500</td>\n",
       "    </tr>\n",
       "    <tr>\n",
       "      <th>3</th>\n",
       "      <td>4</td>\n",
       "      <td>70</td>\n",
       "      <td>RL</td>\n",
       "      <td>60.0</td>\n",
       "      <td>9550</td>\n",
       "      <td>Pave</td>\n",
       "      <td>&lt;NA&gt;</td>\n",
       "      <td>IR1</td>\n",
       "      <td>Lvl</td>\n",
       "      <td>AllPub</td>\n",
       "      <td>...</td>\n",
       "      <td>0</td>\n",
       "      <td>&lt;NA&gt;</td>\n",
       "      <td>&lt;NA&gt;</td>\n",
       "      <td>&lt;NA&gt;</td>\n",
       "      <td>0</td>\n",
       "      <td>2</td>\n",
       "      <td>2006</td>\n",
       "      <td>WD</td>\n",
       "      <td>Abnorml</td>\n",
       "      <td>140000</td>\n",
       "    </tr>\n",
       "    <tr>\n",
       "      <th>4</th>\n",
       "      <td>5</td>\n",
       "      <td>60</td>\n",
       "      <td>RL</td>\n",
       "      <td>84.0</td>\n",
       "      <td>14260</td>\n",
       "      <td>Pave</td>\n",
       "      <td>&lt;NA&gt;</td>\n",
       "      <td>IR1</td>\n",
       "      <td>Lvl</td>\n",
       "      <td>AllPub</td>\n",
       "      <td>...</td>\n",
       "      <td>0</td>\n",
       "      <td>&lt;NA&gt;</td>\n",
       "      <td>&lt;NA&gt;</td>\n",
       "      <td>&lt;NA&gt;</td>\n",
       "      <td>0</td>\n",
       "      <td>12</td>\n",
       "      <td>2008</td>\n",
       "      <td>WD</td>\n",
       "      <td>Normal</td>\n",
       "      <td>250000</td>\n",
       "    </tr>\n",
       "  </tbody>\n",
       "</table>\n",
       "<p>5 rows × 81 columns</p>\n",
       "</div>"
      ],
      "text/plain": [
       "   Id  MSSubClass MSZoning  LotFrontage  LotArea Street Alley LotShape  \\\n",
       "0   1          60       RL         65.0     8450   Pave  <NA>      Reg   \n",
       "1   2          20       RL         80.0     9600   Pave  <NA>      Reg   \n",
       "2   3          60       RL         68.0    11250   Pave  <NA>      IR1   \n",
       "3   4          70       RL         60.0     9550   Pave  <NA>      IR1   \n",
       "4   5          60       RL         84.0    14260   Pave  <NA>      IR1   \n",
       "\n",
       "  LandContour Utilities  ... PoolArea  PoolQC Fence MiscFeature MiscVal  \\\n",
       "0         Lvl    AllPub  ...        0    <NA>  <NA>        <NA>       0   \n",
       "1         Lvl    AllPub  ...        0    <NA>  <NA>        <NA>       0   \n",
       "2         Lvl    AllPub  ...        0    <NA>  <NA>        <NA>       0   \n",
       "3         Lvl    AllPub  ...        0    <NA>  <NA>        <NA>       0   \n",
       "4         Lvl    AllPub  ...        0    <NA>  <NA>        <NA>       0   \n",
       "\n",
       "   MoSold  YrSold  SaleType SaleCondition SalePrice  \n",
       "0       2    2008        WD        Normal    208500  \n",
       "1       5    2007        WD        Normal    181500  \n",
       "2       9    2008        WD        Normal    223500  \n",
       "3       2    2006        WD       Abnorml    140000  \n",
       "4      12    2008        WD        Normal    250000  \n",
       "\n",
       "[5 rows x 81 columns]"
      ]
     },
     "execution_count": 2,
     "metadata": {},
     "output_type": "execute_result"
    }
   ],
   "source": [
    "df=pd.read_csv('../input/house-prices-advanced-regression-techniques/train.csv')\n",
    "test_df=pd.read_csv('../input/house-prices-advanced-regression-techniques/test.csv')\n",
    "# data= pd.concat([df,test_df],axis=0)\n",
    "# print(test_df.head)\n",
    "df.head()\n"
   ]
  },
  {
   "cell_type": "code",
   "execution_count": 3,
   "id": "a3cd84da",
   "metadata": {
    "execution": {
     "iopub.execute_input": "2022-02-28T21:58:17.524896Z",
     "iopub.status.busy": "2022-02-28T21:58:17.521657Z",
     "iopub.status.idle": "2022-02-28T21:58:17.556854Z",
     "shell.execute_reply": "2022-02-28T21:58:17.556393Z",
     "shell.execute_reply.started": "2022-02-28T21:49:06.186943Z"
    },
    "papermill": {
     "duration": 0.069042,
     "end_time": "2022-02-28T21:58:17.556966",
     "exception": false,
     "start_time": "2022-02-28T21:58:17.487924",
     "status": "completed"
    },
    "tags": []
   },
   "outputs": [
    {
     "data": {
      "text/plain": [
       "RL         1151\n",
       "RM          218\n",
       "FV           65\n",
       "RH           16\n",
       "C (all)      10\n",
       "Name: MSZoning, dtype: int32"
      ]
     },
     "execution_count": 3,
     "metadata": {},
     "output_type": "execute_result"
    }
   ],
   "source": [
    "df['MSZoning'].value_counts()"
   ]
  },
  {
   "cell_type": "code",
   "execution_count": 4,
   "id": "4dec784c",
   "metadata": {
    "execution": {
     "iopub.execute_input": "2022-02-28T21:58:17.627815Z",
     "iopub.status.busy": "2022-02-28T21:58:17.627218Z",
     "iopub.status.idle": "2022-02-28T21:58:17.679463Z",
     "shell.execute_reply": "2022-02-28T21:58:17.678996Z",
     "shell.execute_reply.started": "2022-02-28T21:49:06.206712Z"
    },
    "papermill": {
     "duration": 0.08889,
     "end_time": "2022-02-28T21:58:17.679565",
     "exception": false,
     "start_time": "2022-02-28T21:58:17.590675",
     "status": "completed"
    },
    "tags": []
   },
   "outputs": [
    {
     "name": "stdout",
     "output_type": "stream",
     "text": [
      "<class 'cudf.core.dataframe.DataFrame'>\n",
      "RangeIndex: 1460 entries, 0 to 1459\n",
      "Data columns (total 81 columns):\n",
      " #   Column         Non-Null Count  Dtype\n",
      "---  ------         --------------  -----\n",
      " 0   Id             1460 non-null   int64\n",
      " 1   MSSubClass     1460 non-null   int64\n",
      " 2   MSZoning       1460 non-null   object\n",
      " 3   LotFrontage    1201 non-null   float64\n",
      " 4   LotArea        1460 non-null   int64\n",
      " 5   Street         1460 non-null   object\n",
      " 6   Alley          91 non-null     object\n",
      " 7   LotShape       1460 non-null   object\n",
      " 8   LandContour    1460 non-null   object\n",
      " 9   Utilities      1460 non-null   object\n",
      " 10  LotConfig      1460 non-null   object\n",
      " 11  LandSlope      1460 non-null   object\n",
      " 12  Neighborhood   1460 non-null   object\n",
      " 13  Condition1     1460 non-null   object\n",
      " 14  Condition2     1460 non-null   object\n",
      " 15  BldgType       1460 non-null   object\n",
      " 16  HouseStyle     1460 non-null   object\n",
      " 17  OverallQual    1460 non-null   int64\n",
      " 18  OverallCond    1460 non-null   int64\n",
      " 19  YearBuilt      1460 non-null   int64\n",
      " 20  YearRemodAdd   1460 non-null   int64\n",
      " 21  RoofStyle      1460 non-null   object\n",
      " 22  RoofMatl       1460 non-null   object\n",
      " 23  Exterior1st    1460 non-null   object\n",
      " 24  Exterior2nd    1460 non-null   object\n",
      " 25  MasVnrType     1452 non-null   object\n",
      " 26  MasVnrArea     1452 non-null   float64\n",
      " 27  ExterQual      1460 non-null   object\n",
      " 28  ExterCond      1460 non-null   object\n",
      " 29  Foundation     1460 non-null   object\n",
      " 30  BsmtQual       1423 non-null   object\n",
      " 31  BsmtCond       1423 non-null   object\n",
      " 32  BsmtExposure   1422 non-null   object\n",
      " 33  BsmtFinType1   1423 non-null   object\n",
      " 34  BsmtFinSF1     1460 non-null   int64\n",
      " 35  BsmtFinType2   1422 non-null   object\n",
      " 36  BsmtFinSF2     1460 non-null   int64\n",
      " 37  BsmtUnfSF      1460 non-null   int64\n",
      " 38  TotalBsmtSF    1460 non-null   int64\n",
      " 39  Heating        1460 non-null   object\n",
      " 40  HeatingQC      1460 non-null   object\n",
      " 41  CentralAir     1460 non-null   object\n",
      " 42  Electrical     1459 non-null   object\n",
      " 43  1stFlrSF       1460 non-null   int64\n",
      " 44  2ndFlrSF       1460 non-null   int64\n",
      " 45  LowQualFinSF   1460 non-null   int64\n",
      " 46  GrLivArea      1460 non-null   int64\n",
      " 47  BsmtFullBath   1460 non-null   int64\n",
      " 48  BsmtHalfBath   1460 non-null   int64\n",
      " 49  FullBath       1460 non-null   int64\n",
      " 50  HalfBath       1460 non-null   int64\n",
      " 51  BedroomAbvGr   1460 non-null   int64\n",
      " 52  KitchenAbvGr   1460 non-null   int64\n",
      " 53  KitchenQual    1460 non-null   object\n",
      " 54  TotRmsAbvGrd   1460 non-null   int64\n",
      " 55  Functional     1460 non-null   object\n",
      " 56  Fireplaces     1460 non-null   int64\n",
      " 57  FireplaceQu    770 non-null    object\n",
      " 58  GarageType     1379 non-null   object\n",
      " 59  GarageYrBlt    1379 non-null   float64\n",
      " 60  GarageFinish   1379 non-null   object\n",
      " 61  GarageCars     1460 non-null   int64\n",
      " 62  GarageArea     1460 non-null   int64\n",
      " 63  GarageQual     1379 non-null   object\n",
      " 64  GarageCond     1379 non-null   object\n",
      " 65  PavedDrive     1460 non-null   object\n",
      " 66  WoodDeckSF     1460 non-null   int64\n",
      " 67  OpenPorchSF    1460 non-null   int64\n",
      " 68  EnclosedPorch  1460 non-null   int64\n",
      " 69  3SsnPorch      1460 non-null   int64\n",
      " 70  ScreenPorch    1460 non-null   int64\n",
      " 71  PoolArea       1460 non-null   int64\n",
      " 72  PoolQC         7 non-null      object\n",
      " 73  Fence          281 non-null    object\n",
      " 74  MiscFeature    54 non-null     object\n",
      " 75  MiscVal        1460 non-null   int64\n",
      " 76  MoSold         1460 non-null   int64\n",
      " 77  YrSold         1460 non-null   int64\n",
      " 78  SaleType       1460 non-null   object\n",
      " 79  SaleCondition  1460 non-null   object\n",
      " 80  SalePrice      1460 non-null   int64\n",
      "dtypes: float64(3), int64(35), object(43)\n",
      "memory usage: 888.7+ KB\n"
     ]
    }
   ],
   "source": [
    "df.info()"
   ]
  },
  {
   "cell_type": "markdown",
   "id": "36d8014e",
   "metadata": {
    "papermill": {
     "duration": 0.037716,
     "end_time": "2022-02-28T21:58:17.753420",
     "exception": false,
     "start_time": "2022-02-28T21:58:17.715704",
     "status": "completed"
    },
    "tags": []
   },
   "source": [
    "# handling missing values"
   ]
  },
  {
   "cell_type": "code",
   "execution_count": 5,
   "id": "2a86528a",
   "metadata": {
    "execution": {
     "iopub.execute_input": "2022-02-28T21:58:17.829785Z",
     "iopub.status.busy": "2022-02-28T21:58:17.829178Z",
     "iopub.status.idle": "2022-02-28T21:58:17.832065Z",
     "shell.execute_reply": "2022-02-28T21:58:17.831524Z",
     "shell.execute_reply.started": "2022-02-28T21:49:06.259876Z"
    },
    "papermill": {
     "duration": 0.041722,
     "end_time": "2022-02-28T21:58:17.832184",
     "exception": false,
     "start_time": "2022-02-28T21:58:17.790462",
     "status": "completed"
    },
    "tags": []
   },
   "outputs": [],
   "source": [
    "# import missingno as msno \n",
    "# msno.bar(df)"
   ]
  },
  {
   "cell_type": "markdown",
   "id": "44cf06e4",
   "metadata": {
    "papermill": {
     "duration": 0.033682,
     "end_time": "2022-02-28T21:58:17.898323",
     "exception": false,
     "start_time": "2022-02-28T21:58:17.864641",
     "status": "completed"
    },
    "tags": []
   },
   "source": [
    "As we can see both test and train data have missing values so we will handle them both"
   ]
  },
  {
   "cell_type": "markdown",
   "id": "052823fe",
   "metadata": {
    "papermill": {
     "duration": 0.032805,
     "end_time": "2022-02-28T21:58:17.963381",
     "exception": false,
     "start_time": "2022-02-28T21:58:17.930576",
     "status": "completed"
    },
    "tags": []
   },
   "source": [
    "dropping follwing columns as their total entries are too low"
   ]
  },
  {
   "cell_type": "code",
   "execution_count": 6,
   "id": "b4d960b2",
   "metadata": {
    "execution": {
     "iopub.execute_input": "2022-02-28T21:58:18.032647Z",
     "iopub.status.busy": "2022-02-28T21:58:18.031822Z",
     "iopub.status.idle": "2022-02-28T21:58:18.034517Z",
     "shell.execute_reply": "2022-02-28T21:58:18.034012Z",
     "shell.execute_reply.started": "2022-02-28T21:49:06.265604Z"
    },
    "papermill": {
     "duration": 0.038509,
     "end_time": "2022-02-28T21:58:18.034647",
     "exception": false,
     "start_time": "2022-02-28T21:58:17.996138",
     "status": "completed"
    },
    "tags": []
   },
   "outputs": [],
   "source": [
    "# data.drop(['Alley','PoolQC','Fence','MiscFeature'],axis=1,inplace=True)"
   ]
  },
  {
   "cell_type": "code",
   "execution_count": 7,
   "id": "4d1ea685",
   "metadata": {
    "execution": {
     "iopub.execute_input": "2022-02-28T21:58:18.103630Z",
     "iopub.status.busy": "2022-02-28T21:58:18.102774Z",
     "iopub.status.idle": "2022-02-28T21:58:18.104549Z",
     "shell.execute_reply": "2022-02-28T21:58:18.105011Z",
     "shell.execute_reply.started": "2022-02-28T21:49:06.274404Z"
    },
    "papermill": {
     "duration": 0.037839,
     "end_time": "2022-02-28T21:58:18.105125",
     "exception": false,
     "start_time": "2022-02-28T21:58:18.067286",
     "status": "completed"
    },
    "tags": []
   },
   "outputs": [],
   "source": [
    "# print(df['BsmtCond'].value_counts())\n",
    "# print(df['BsmtQual'].value_counts())\n",
    "# print(df['FireplaceQu'].value_counts())\n",
    "# print(df['GarageType'].value_counts())\n",
    "# print(df['GarageFinish'].value_counts())\n",
    "# print(df['GarageQual'].value_counts())\n",
    "# print(df['BsmtFinType2'].value_counts())\n",
    "# print(df['GarageCond'].value_counts())\n",
    "# print(df['MasVnrType'].value_counts())\n",
    "# print(df['MasVnrType'].value_counts())\n",
    "# print(df['BsmtExposure'].value_counts())\n"
   ]
  },
  {
   "cell_type": "code",
   "execution_count": 8,
   "id": "6040d5fe",
   "metadata": {
    "execution": {
     "iopub.execute_input": "2022-02-28T21:58:18.173895Z",
     "iopub.status.busy": "2022-02-28T21:58:18.173049Z",
     "iopub.status.idle": "2022-02-28T21:58:18.175283Z",
     "shell.execute_reply": "2022-02-28T21:58:18.174781Z",
     "shell.execute_reply.started": "2022-02-28T21:49:06.282130Z"
    },
    "papermill": {
     "duration": 0.038232,
     "end_time": "2022-02-28T21:58:18.175382",
     "exception": false,
     "start_time": "2022-02-28T21:58:18.137150",
     "status": "completed"
    },
    "tags": []
   },
   "outputs": [],
   "source": [
    "df.drop(['Alley','PoolQC','Fence','MiscFeature'],axis=1,inplace=True)\n",
    "# df.drop(['Alley','PoolQC','Fence','MiscFeature'],axis=1,inplace=True)"
   ]
  },
  {
   "cell_type": "code",
   "execution_count": 9,
   "id": "133e5d6e",
   "metadata": {
    "execution": {
     "iopub.execute_input": "2022-02-28T21:58:18.244081Z",
     "iopub.status.busy": "2022-02-28T21:58:18.243488Z",
     "iopub.status.idle": "2022-02-28T21:58:18.261007Z",
     "shell.execute_reply": "2022-02-28T21:58:18.260550Z",
     "shell.execute_reply.started": "2022-02-28T21:49:06.292683Z"
    },
    "papermill": {
     "duration": 0.054047,
     "end_time": "2022-02-28T21:58:18.261120",
     "exception": false,
     "start_time": "2022-02-28T21:58:18.207073",
     "status": "completed"
    },
    "tags": []
   },
   "outputs": [],
   "source": [
    "df['LotFrontage']=df['LotFrontage'].fillna(df['LotFrontage'].mean())\n",
    "df['MasVnrArea']=df['MasVnrArea'].fillna(df['MasVnrArea'].mean())\n",
    "df['GarageYrBlt']=df['GarageYrBlt'].fillna(df['GarageYrBlt'].mean())\n",
    "# data.info()"
   ]
  },
  {
   "cell_type": "code",
   "execution_count": 10,
   "id": "666e0691",
   "metadata": {
    "execution": {
     "iopub.execute_input": "2022-02-28T21:58:18.330334Z",
     "iopub.status.busy": "2022-02-28T21:58:18.329520Z",
     "iopub.status.idle": "2022-02-28T21:58:19.371936Z",
     "shell.execute_reply": "2022-02-28T21:58:19.371341Z",
     "shell.execute_reply.started": "2022-02-28T21:49:06.307889Z"
    },
    "papermill": {
     "duration": 1.078356,
     "end_time": "2022-02-28T21:58:19.372087",
     "exception": false,
     "start_time": "2022-02-28T21:58:18.293731",
     "status": "completed"
    },
    "tags": []
   },
   "outputs": [
    {
     "data": {
      "text/plain": [
       "(1460, 77)"
      ]
     },
     "execution_count": 10,
     "metadata": {},
     "output_type": "execute_result"
    }
   ],
   "source": [
    "cols=['BsmtCond','BsmtQual','FireplaceQu','GarageType','GarageFinish','GarageQual','GarageCond','MasVnrType',\n",
    "'BsmtExposure']\n",
    "for i in cols:\n",
    "    df[i]=df[i].fillna(df[i].mode()[0])\n",
    "#     data[i]=data[i].fillna(data[i].mode()[0])\n",
    "    \n",
    "df.shape"
   ]
  },
  {
   "cell_type": "markdown",
   "id": "edce13c5",
   "metadata": {
    "papermill": {
     "duration": 0.032694,
     "end_time": "2022-02-28T21:58:19.438160",
     "exception": false,
     "start_time": "2022-02-28T21:58:19.405466",
     "status": "completed"
    },
    "tags": []
   },
   "source": [
    "dropping null records"
   ]
  },
  {
   "cell_type": "code",
   "execution_count": 11,
   "id": "f077f10e",
   "metadata": {
    "execution": {
     "iopub.execute_input": "2022-02-28T21:58:19.507227Z",
     "iopub.status.busy": "2022-02-28T21:58:19.506383Z",
     "iopub.status.idle": "2022-02-28T21:58:19.922081Z",
     "shell.execute_reply": "2022-02-28T21:58:19.922705Z",
     "shell.execute_reply.started": "2022-02-28T21:49:06.471020Z"
    },
    "papermill": {
     "duration": 0.45245,
     "end_time": "2022-02-28T21:58:19.922872",
     "exception": false,
     "start_time": "2022-02-28T21:58:19.470422",
     "status": "completed"
    },
    "tags": []
   },
   "outputs": [
    {
     "data": {
      "text/plain": [
       "<AxesSubplot:>"
      ]
     },
     "execution_count": 11,
     "metadata": {},
     "output_type": "execute_result"
    },
    {
     "data": {
      "image/png": "[encoded data removed]",
      "text/plain": [
       "<Figure size 432x288 with 1 Axes>"
      ]
     },
     "metadata": {
      "needs_background": "light"
     },
     "output_type": "display_data"
    }
   ],
   "source": [
    "# sns.heatmap(data.isnull(),yticklabels=False,cbar=False,cmap='cool')\n",
    "sns.heatmap(df.isnull().as_matrix(),yticklabels=False,cbar=False,cmap='cool')"
   ]
  },
  {
   "cell_type": "code",
   "execution_count": 12,
   "id": "7b9a7cda",
   "metadata": {
    "execution": {
     "iopub.execute_input": "2022-02-28T21:58:19.995501Z",
     "iopub.status.busy": "2022-02-28T21:58:19.994683Z",
     "iopub.status.idle": "2022-02-28T21:58:20.014344Z",
     "shell.execute_reply": "2022-02-28T21:58:20.013886Z",
     "shell.execute_reply.started": "2022-02-28T21:49:06.849965Z"
    },
    "papermill": {
     "duration": 0.057754,
     "end_time": "2022-02-28T21:58:20.014456",
     "exception": false,
     "start_time": "2022-02-28T21:58:19.956702",
     "status": "completed"
    },
    "tags": []
   },
   "outputs": [],
   "source": [
    "df['BsmtFinType1']=df['BsmtFinType1'].fillna(df['BsmtFinType1'].mode()[0])"
   ]
  },
  {
   "cell_type": "code",
   "execution_count": 13,
   "id": "3e4b6462",
   "metadata": {
    "execution": {
     "iopub.execute_input": "2022-02-28T21:58:20.085998Z",
     "iopub.status.busy": "2022-02-28T21:58:20.085218Z",
     "iopub.status.idle": "2022-02-28T21:58:20.485261Z",
     "shell.execute_reply": "2022-02-28T21:58:20.486353Z",
     "shell.execute_reply.started": "2022-02-28T21:49:06.877088Z"
    },
    "papermill": {
     "duration": 0.43879,
     "end_time": "2022-02-28T21:58:20.486566",
     "exception": false,
     "start_time": "2022-02-28T21:58:20.047776",
     "status": "completed"
    },
    "tags": []
   },
   "outputs": [
    {
     "data": {
      "text/plain": [
       "<AxesSubplot:>"
      ]
     },
     "execution_count": 13,
     "metadata": {},
     "output_type": "execute_result"
    },
    {
     "data": {
      "image/png": "[encoded data removed]",
      "text/plain": [
       "<Figure size 432x288 with 1 Axes>"
      ]
     },
     "metadata": {
      "needs_background": "light"
     },
     "output_type": "display_data"
    }
   ],
   "source": [
    "sns.heatmap(df.isnull().as_matrix(),yticklabels=False,cbar=False,cmap='cool')"
   ]
  },
  {
   "cell_type": "code",
   "execution_count": 14,
   "id": "fa2d4564",
   "metadata": {
    "execution": {
     "iopub.execute_input": "2022-02-28T21:58:20.560743Z",
     "iopub.status.busy": "2022-02-28T21:58:20.559896Z",
     "iopub.status.idle": "2022-02-28T21:58:20.580245Z",
     "shell.execute_reply": "2022-02-28T21:58:20.579833Z",
     "shell.execute_reply.started": "2022-02-28T21:49:07.252829Z"
    },
    "papermill": {
     "duration": 0.05882,
     "end_time": "2022-02-28T21:58:20.580351",
     "exception": false,
     "start_time": "2022-02-28T21:58:20.521531",
     "status": "completed"
    },
    "tags": []
   },
   "outputs": [],
   "source": [
    "df['BsmtFinType2']=df['BsmtFinType2'].fillna(df['BsmtFinType2'].mode()[0])"
   ]
  },
  {
   "cell_type": "code",
   "execution_count": 15,
   "id": "cc435826",
   "metadata": {
    "execution": {
     "iopub.execute_input": "2022-02-28T21:58:20.653775Z",
     "iopub.status.busy": "2022-02-28T21:58:20.652883Z",
     "iopub.status.idle": "2022-02-28T21:58:21.054143Z",
     "shell.execute_reply": "2022-02-28T21:58:21.053365Z",
     "shell.execute_reply.started": "2022-02-28T21:49:07.279294Z"
    },
    "papermill": {
     "duration": 0.439506,
     "end_time": "2022-02-28T21:58:21.054273",
     "exception": false,
     "start_time": "2022-02-28T21:58:20.614767",
     "status": "completed"
    },
    "tags": []
   },
   "outputs": [
    {
     "data": {
      "text/plain": [
       "<AxesSubplot:>"
      ]
     },
     "execution_count": 15,
     "metadata": {},
     "output_type": "execute_result"
    },
    {
     "data": {
      "image/png": "[encoded data removed]",
      "text/plain": [
       "<Figure size 432x288 with 1 Axes>"
      ]
     },
     "metadata": {
      "needs_background": "light"
     },
     "output_type": "display_data"
    }
   ],
   "source": [
    "sns.heatmap(df.isnull().as_matrix(),yticklabels=False,cbar=False,cmap='cool')"
   ]
  },
  {
   "cell_type": "code",
   "execution_count": 16,
   "id": "c6261de3",
   "metadata": {
    "execution": {
     "iopub.execute_input": "2022-02-28T21:58:21.132610Z",
     "iopub.status.busy": "2022-02-28T21:58:21.131735Z",
     "iopub.status.idle": "2022-02-28T21:58:21.169879Z",
     "shell.execute_reply": "2022-02-28T21:58:21.170441Z",
     "shell.execute_reply.started": "2022-02-28T21:49:07.655730Z"
    },
    "papermill": {
     "duration": 0.079619,
     "end_time": "2022-02-28T21:58:21.170627",
     "exception": false,
     "start_time": "2022-02-28T21:58:21.091008",
     "status": "completed"
    },
    "tags": []
   },
   "outputs": [
    {
     "name": "stdout",
     "output_type": "stream",
     "text": [
      "<class 'cudf.core.dataframe.DataFrame'>\n",
      "RangeIndex: 1460 entries, 0 to 1459\n",
      "Data columns (total 77 columns):\n",
      " #   Column         Non-Null Count  Dtype\n",
      "---  ------         --------------  -----\n",
      " 0   Id             1460 non-null   int64\n",
      " 1   MSSubClass     1460 non-null   int64\n",
      " 2   MSZoning       1460 non-null   object\n",
      " 3   LotFrontage    1460 non-null   float64\n",
      " 4   LotArea        1460 non-null   int64\n",
      " 5   Street         1460 non-null   object\n",
      " 6   LotShape       1460 non-null   object\n",
      " 7   LandContour    1460 non-null   object\n",
      " 8   Utilities      1460 non-null   object\n",
      " 9   LotConfig      1460 non-null   object\n",
      " 10  LandSlope      1460 non-null   object\n",
      " 11  Neighborhood   1460 non-null   object\n",
      " 12  Condition1     1460 non-null   object\n",
      " 13  Condition2     1460 non-null   object\n",
      " 14  BldgType       1460 non-null   object\n",
      " 15  HouseStyle     1460 non-null   object\n",
      " 16  OverallQual    1460 non-null   int64\n",
      " 17  OverallCond    1460 non-null   int64\n",
      " 18  YearBuilt      1460 non-null   int64\n",
      " 19  YearRemodAdd   1460 non-null   int64\n",
      " 20  RoofStyle      1460 non-null   object\n",
      " 21  RoofMatl       1460 non-null   object\n",
      " 22  Exterior1st    1460 non-null   object\n",
      " 23  Exterior2nd    1460 non-null   object\n",
      " 24  MasVnrType     1460 non-null   object\n",
      " 25  MasVnrArea     1460 non-null   float64\n",
      " 26  ExterQual      1460 non-null   object\n",
      " 27  ExterCond      1460 non-null   object\n",
      " 28  Foundation     1460 non-null   object\n",
      " 29  BsmtQual       1460 non-null   object\n",
      " 30  BsmtCond       1460 non-null   object\n",
      " 31  BsmtExposure   1460 non-null   object\n",
      " 32  BsmtFinType1   1460 non-null   object\n",
      " 33  BsmtFinSF1     1460 non-null   int64\n",
      " 34  BsmtFinType2   1460 non-null   object\n",
      " 35  BsmtFinSF2     1460 non-null   int64\n",
      " 36  BsmtUnfSF      1460 non-null   int64\n",
      " 37  TotalBsmtSF    1460 non-null   int64\n",
      " 38  Heating        1460 non-null   object\n",
      " 39  HeatingQC      1460 non-null   object\n",
      " 40  CentralAir     1460 non-null   object\n",
      " 41  Electrical     1459 non-null   object\n",
      " 42  1stFlrSF       1460 non-null   int64\n",
      " 43  2ndFlrSF       1460 non-null   int64\n",
      " 44  LowQualFinSF   1460 non-null   int64\n",
      " 45  GrLivArea      1460 non-null   int64\n",
      " 46  BsmtFullBath   1460 non-null   int64\n",
      " 47  BsmtHalfBath   1460 non-null   int64\n",
      " 48  FullBath       1460 non-null   int64\n",
      " 49  HalfBath       1460 non-null   int64\n",
      " 50  BedroomAbvGr   1460 non-null   int64\n",
      " 51  KitchenAbvGr   1460 non-null   int64\n",
      " 52  KitchenQual    1460 non-null   object\n",
      " 53  TotRmsAbvGrd   1460 non-null   int64\n",
      " 54  Functional     1460 non-null   object\n",
      " 55  Fireplaces     1460 non-null   int64\n",
      " 56  FireplaceQu    1460 non-null   object\n",
      " 57  GarageType     1460 non-null   object\n",
      " 58  GarageYrBlt    1460 non-null   float64\n",
      " 59  GarageFinish   1460 non-null   object\n",
      " 60  GarageCars     1460 non-null   int64\n",
      " 61  GarageArea     1460 non-null   int64\n",
      " 62  GarageQual     1460 non-null   object\n",
      " 63  GarageCond     1460 non-null   object\n",
      " 64  PavedDrive     1460 non-null   object\n",
      " 65  WoodDeckSF     1460 non-null   int64\n",
      " 66  OpenPorchSF    1460 non-null   int64\n",
      " 67  EnclosedPorch  1460 non-null   int64\n",
      " 68  3SsnPorch      1460 non-null   int64\n",
      " 69  ScreenPorch    1460 non-null   int64\n",
      " 70  PoolArea       1460 non-null   int64\n",
      " 71  MiscVal        1460 non-null   int64\n",
      " 72  MoSold         1460 non-null   int64\n",
      " 73  YrSold         1460 non-null   int64\n",
      " 74  SaleType       1460 non-null   object\n",
      " 75  SaleCondition  1460 non-null   object\n",
      " 76  SalePrice      1460 non-null   int64\n",
      "dtypes: float64(3), int64(35), object(39)\n",
      "memory usage: 863.5+ KB\n"
     ]
    }
   ],
   "source": [
    "df.info()"
   ]
  },
  {
   "cell_type": "code",
   "execution_count": 17,
   "id": "6acbf170",
   "metadata": {
    "execution": {
     "iopub.execute_input": "2022-02-28T21:58:21.251637Z",
     "iopub.status.busy": "2022-02-28T21:58:21.250816Z",
     "iopub.status.idle": "2022-02-28T21:58:21.252968Z",
     "shell.execute_reply": "2022-02-28T21:58:21.253461Z",
     "shell.execute_reply.started": "2022-02-28T21:49:07.700368Z"
    },
    "papermill": {
     "duration": 0.044944,
     "end_time": "2022-02-28T21:58:21.253584",
     "exception": false,
     "start_time": "2022-02-28T21:58:21.208640",
     "status": "completed"
    },
    "tags": []
   },
   "outputs": [],
   "source": [
    "\n",
    "\n",
    "columns=['MSZoning','Street','LotShape','LandContour','Utilities','LotConfig','LandSlope','Neighborhood',\n",
    "         'Condition2','BldgType','Condition1','HouseStyle','SaleType',\n",
    "        'SaleCondition','ExterCond',\n",
    "         'ExterQual','Foundation','BsmtQual','BsmtCond','BsmtExposure','BsmtFinType1','BsmtFinType2',\n",
    "        'RoofStyle','RoofMatl','Exterior1st','Exterior2nd','MasVnrType','Heating','HeatingQC',\n",
    "         'CentralAir',\n",
    "         'Electrical','KitchenQual','Functional',\n",
    "         'FireplaceQu','GarageType','GarageFinish','GarageQual','GarageCond','PavedDrive']\n",
    "\n"
   ]
  },
  {
   "cell_type": "markdown",
   "id": "977dc1e9",
   "metadata": {
    "papermill": {
     "duration": 0.03702,
     "end_time": "2022-02-28T21:58:21.328159",
     "exception": false,
     "start_time": "2022-02-28T21:58:21.291139",
     "status": "completed"
    },
    "tags": []
   },
   "source": [
    "Handling categorical features"
   ]
  },
  {
   "cell_type": "code",
   "execution_count": 18,
   "id": "f51d28f0",
   "metadata": {
    "execution": {
     "iopub.execute_input": "2022-02-28T21:58:21.408026Z",
     "iopub.status.busy": "2022-02-28T21:58:21.407177Z",
     "iopub.status.idle": "2022-02-28T21:58:22.294057Z",
     "shell.execute_reply": "2022-02-28T21:58:22.294784Z",
     "shell.execute_reply.started": "2022-02-28T21:52:27.185923Z"
    },
    "papermill": {
     "duration": 0.930078,
     "end_time": "2022-02-28T21:58:22.295003",
     "exception": false,
     "start_time": "2022-02-28T21:58:21.364925",
     "status": "completed"
    },
    "tags": []
   },
   "outputs": [
    {
     "name": "stdout",
     "output_type": "stream",
     "text": [
      "(1460, 277)\n"
     ]
    },
    {
     "data": {
      "text/plain": [
       "0       208500\n",
       "1       181500\n",
       "2       223500\n",
       "3       140000\n",
       "4       250000\n",
       "         ...  \n",
       "1455    175000\n",
       "1456    210000\n",
       "1457    266500\n",
       "1458    142125\n",
       "1459    147500\n",
       "Name: SalePrice, Length: 1460, dtype: int64"
      ]
     },
     "execution_count": 18,
     "metadata": {},
     "output_type": "execute_result"
    }
   ],
   "source": [
    "one_hot_encoded_data = pd.get_dummies(df,\n",
    "columns=['MSZoning','Street','LotShape','LandContour','Utilities','LotConfig','LandSlope','Neighborhood',\n",
    "         'Condition2','BldgType','Condition1','HouseStyle','SaleType',\n",
    "        'SaleCondition','ExterCond',\n",
    "         'ExterQual','Foundation','BsmtQual','BsmtCond','BsmtExposure','BsmtFinType1','BsmtFinType2',\n",
    "        'RoofStyle','RoofMatl','Exterior1st','Exterior2nd','MasVnrType','Heating','HeatingQC',\n",
    "         'CentralAir',\n",
    "         'Electrical','KitchenQual','Functional',\n",
    "         'FireplaceQu','GarageType','GarageFinish','GarageQual','GarageCond','PavedDrive'])\n",
    "print(one_hot_encoded_data.shape)\n",
    "target = df.iloc[:,-1]\n",
    "target"
   ]
  },
  {
   "cell_type": "code",
   "execution_count": 19,
   "id": "68566410",
   "metadata": {
    "execution": {
     "iopub.execute_input": "2022-02-28T21:58:22.373028Z",
     "iopub.status.busy": "2022-02-28T21:58:22.372175Z",
     "iopub.status.idle": "2022-02-28T21:58:22.374771Z",
     "shell.execute_reply": "2022-02-28T21:58:22.374336Z",
     "shell.execute_reply.started": "2022-02-28T21:49:08.645518Z"
    },
    "papermill": {
     "duration": 0.042207,
     "end_time": "2022-02-28T21:58:22.374881",
     "exception": false,
     "start_time": "2022-02-28T21:58:22.332674",
     "status": "completed"
    },
    "tags": []
   },
   "outputs": [],
   "source": [
    "# one_hot_encoded_data= one_hot_encoded_data.loc[:,~one_hot_encoded_data.columns.duplicated()]\n",
    "# one_hot_encoded_data.shape"
   ]
  },
  {
   "cell_type": "code",
   "execution_count": 20,
   "id": "713df9b4",
   "metadata": {
    "execution": {
     "iopub.execute_input": "2022-02-28T21:58:22.452907Z",
     "iopub.status.busy": "2022-02-28T21:58:22.452062Z",
     "iopub.status.idle": "2022-02-28T21:58:22.454906Z",
     "shell.execute_reply": "2022-02-28T21:58:22.455349Z",
     "shell.execute_reply.started": "2022-02-28T21:49:08.651067Z"
    },
    "papermill": {
     "duration": 0.044554,
     "end_time": "2022-02-28T21:58:22.455464",
     "exception": false,
     "start_time": "2022-02-28T21:58:22.410910",
     "status": "completed"
    },
    "tags": []
   },
   "outputs": [
    {
     "data": {
      "text/plain": [
       "(1460, 276)"
      ]
     },
     "execution_count": 20,
     "metadata": {},
     "output_type": "execute_result"
    }
   ],
   "source": [
    "one_hot_encoded_data.drop(['SalePrice'],axis=1,inplace=True)\n",
    "one_hot_encoded_data.shape"
   ]
  },
  {
   "cell_type": "code",
   "execution_count": 21,
   "id": "e38bb6a7",
   "metadata": {
    "execution": {
     "iopub.execute_input": "2022-02-28T21:58:22.537719Z",
     "iopub.status.busy": "2022-02-28T21:58:22.537088Z",
     "iopub.status.idle": "2022-02-28T21:58:22.539333Z",
     "shell.execute_reply": "2022-02-28T21:58:22.539720Z",
     "shell.execute_reply.started": "2022-02-28T21:49:08.661649Z"
    },
    "papermill": {
     "duration": 0.04448,
     "end_time": "2022-02-28T21:58:22.539839",
     "exception": false,
     "start_time": "2022-02-28T21:58:22.495359",
     "status": "completed"
    },
    "tags": []
   },
   "outputs": [],
   "source": [
    "# from cuml.preprocessing import StandardScaler\n",
    "# scaler=StandardScaler()\n",
    "# X_scaled=scaler.fit_transform(one_hot_encoded_data)\n",
    "# X_scaled"
   ]
  },
  {
   "cell_type": "code",
   "execution_count": 22,
   "id": "7b66b217",
   "metadata": {
    "execution": {
     "iopub.execute_input": "2022-02-28T21:58:22.617564Z",
     "iopub.status.busy": "2022-02-28T21:58:22.616974Z",
     "iopub.status.idle": "2022-02-28T21:58:25.938738Z",
     "shell.execute_reply": "2022-02-28T21:58:25.938196Z",
     "shell.execute_reply.started": "2022-02-28T21:49:08.668260Z"
    },
    "papermill": {
     "duration": 3.362367,
     "end_time": "2022-02-28T21:58:25.938884",
     "exception": false,
     "start_time": "2022-02-28T21:58:22.576517",
     "status": "completed"
    },
    "tags": []
   },
   "outputs": [],
   "source": [
    "# from cuml.model_selection import train_test_split\n",
    "# X_train, X_test, y_train, y_test= train_test_split(one_hot_encoded_data,target, test_size=0.3, random_state=42)\n",
    "from cuml.model_selection import train_test_split\n",
    "x_train, x_val, y_train, y_val = train_test_split(one_hot_encoded_data,target, test_size=0.3, random_state=42)"
   ]
  },
  {
   "cell_type": "code",
   "execution_count": 23,
   "id": "3404373e",
   "metadata": {
    "execution": {
     "iopub.execute_input": "2022-02-28T21:58:26.020260Z",
     "iopub.status.busy": "2022-02-28T21:58:26.019431Z",
     "iopub.status.idle": "2022-02-28T21:58:26.021493Z",
     "shell.execute_reply": "2022-02-28T21:58:26.021891Z",
     "shell.execute_reply.started": "2022-02-28T21:49:08.738343Z"
    },
    "papermill": {
     "duration": 0.044685,
     "end_time": "2022-02-28T21:58:26.022017",
     "exception": false,
     "start_time": "2022-02-28T21:58:25.977332",
     "status": "completed"
    },
    "tags": []
   },
   "outputs": [],
   "source": [
    "from cuml.linear_model import LinearRegression\n",
    "lr_eig = LinearRegression(fit_intercept = True, normalize = False, algorithm = \"eig\")\n",
    "lr_svd = LinearRegression(fit_intercept = True, normalize = False, algorithm = \"svd\")\n",
    "lr_qr = LinearRegression(fit_intercept = True, normalize = False, algorithm = \"qr\")\n",
    "lr_svdqr = LinearRegression(fit_intercept = True, normalize = False, algorithm = \"svd-qr\")\n",
    "lr_svdjac = LinearRegression(fit_intercept = True, normalize = False, algorithm = \"svd-jacobi\")"
   ]
  },
  {
   "cell_type": "code",
   "execution_count": 24,
   "id": "8e3974b0",
   "metadata": {
    "execution": {
     "iopub.execute_input": "2022-02-28T21:58:26.105906Z",
     "iopub.status.busy": "2022-02-28T21:58:26.103572Z",
     "iopub.status.idle": "2022-02-28T21:58:28.838561Z",
     "shell.execute_reply": "2022-02-28T21:58:28.839109Z",
     "shell.execute_reply.started": "2022-02-28T21:49:08.752461Z"
    },
    "papermill": {
     "duration": 2.780445,
     "end_time": "2022-02-28T21:58:28.839284",
     "exception": false,
     "start_time": "2022-02-28T21:58:26.058839",
     "status": "completed"
    },
    "tags": []
   },
   "outputs": [
    {
     "data": {
      "text/plain": [
       "LinearRegression()"
      ]
     },
     "execution_count": 24,
     "metadata": {},
     "output_type": "execute_result"
    }
   ],
   "source": [
    "lr_eig.fit(x_train, y_train)\n",
    "lr_svd.fit(x_train, y_train)\n",
    "lr_qr.fit(x_train, y_train)\n",
    "lr_svdqr.fit(x_train, y_train)\n",
    "lr_svdjac.fit(x_train, y_train)"
   ]
  },
  {
   "cell_type": "code",
   "execution_count": 25,
   "id": "edb73a31",
   "metadata": {
    "execution": {
     "iopub.execute_input": "2022-02-28T21:58:28.926912Z",
     "iopub.status.busy": "2022-02-28T21:58:28.921521Z",
     "iopub.status.idle": "2022-02-28T21:58:29.282310Z",
     "shell.execute_reply": "2022-02-28T21:58:29.282833Z",
     "shell.execute_reply.started": "2022-02-28T21:49:09.103551Z"
    },
    "papermill": {
     "duration": 0.40568,
     "end_time": "2022-02-28T21:58:29.283012",
     "exception": false,
     "start_time": "2022-02-28T21:58:28.877332",
     "status": "completed"
    },
    "tags": []
   },
   "outputs": [],
   "source": [
    "preds_eig = lr_eig.predict(x_val)\n",
    "preds_svd = lr_svd.predict(x_val)\n",
    "preds_qr = lr_qr.predict(x_val)\n",
    "preds_svdqr = lr_svdqr.predict(x_val)\n",
    "preds_svdjac = lr_svdjac.predict(x_val)"
   ]
  },
  {
   "cell_type": "code",
   "execution_count": 26,
   "id": "7cf4f3c4",
   "metadata": {
    "execution": {
     "iopub.execute_input": "2022-02-28T21:58:29.364089Z",
     "iopub.status.busy": "2022-02-28T21:58:29.363162Z",
     "iopub.status.idle": "2022-02-28T21:58:29.367542Z",
     "shell.execute_reply": "2022-02-28T21:58:29.367148Z",
     "shell.execute_reply.started": "2022-02-28T21:49:09.474775Z"
    },
    "papermill": {
     "duration": 0.046327,
     "end_time": "2022-02-28T21:58:29.367677",
     "exception": false,
     "start_time": "2022-02-28T21:58:29.321350",
     "status": "completed"
    },
    "tags": []
   },
   "outputs": [],
   "source": [
    "preds_eig = preds_eig.astype(np.int64)\n",
    "preds_svd = preds_svd.astype(np.int64)\n",
    "preds_qr = preds_qr.astype(np.int64)\n",
    "preds_svdqr = preds_svdqr.astype(np.int64)\n",
    "preds_svdjac = preds_svdjac.astype(np.int64)"
   ]
  },
  {
   "cell_type": "code",
   "execution_count": 27,
   "id": "9ef7f2fc",
   "metadata": {
    "execution": {
     "iopub.execute_input": "2022-02-28T21:58:29.446224Z",
     "iopub.status.busy": "2022-02-28T21:58:29.445475Z",
     "iopub.status.idle": "2022-02-28T21:58:29.447470Z",
     "shell.execute_reply": "2022-02-28T21:58:29.447848Z",
     "shell.execute_reply.started": "2022-02-28T21:49:09.482935Z"
    },
    "papermill": {
     "duration": 0.042933,
     "end_time": "2022-02-28T21:58:29.447971",
     "exception": false,
     "start_time": "2022-02-28T21:58:29.405038",
     "status": "completed"
    },
    "tags": []
   },
   "outputs": [],
   "source": [
    "algos = ['eig','svd','qr','svdqr','svdjacob']"
   ]
  },
  {
   "cell_type": "code",
   "execution_count": 28,
   "id": "6c6d3e25",
   "metadata": {
    "execution": {
     "iopub.execute_input": "2022-02-28T21:58:29.530945Z",
     "iopub.status.busy": "2022-02-28T21:58:29.530095Z",
     "iopub.status.idle": "2022-02-28T21:58:30.780578Z",
     "shell.execute_reply": "2022-02-28T21:58:30.781188Z",
     "shell.execute_reply.started": "2022-02-28T21:53:35.418699Z"
    },
    "papermill": {
     "duration": 1.295798,
     "end_time": "2022-02-28T21:58:30.781377",
     "exception": false,
     "start_time": "2022-02-28T21:58:29.485579",
     "status": "completed"
    },
    "tags": []
   },
   "outputs": [
    {
     "name": "stdout",
     "output_type": "stream",
     "text": [
      "[1.36722148e+005 1.91358881e+004 6.94032906e-310 1.88749635e+004\n",
      " 1.91358881e+004]\n"
     ]
    }
   ],
   "source": [
    "from cuml.metrics.regression import mean_absolute_error\n",
    "import numpy\n",
    "mae = numpy.empty(shape=[5])\n",
    "mae[0]=(mean_absolute_error(y_val, preds_eig))\n",
    "mae[1]=(mean_absolute_error(y_val, preds_svd))\n",
    "# mae[2]=(mean_absolute_error(y_val, preds_qr))\n",
    "mae[3]=(mean_absolute_error(y_val, preds_svdqr))\n",
    "mae[4]=(mean_absolute_error(y_val, preds_svdjac))\n",
    "print(mae)"
   ]
  },
  {
   "cell_type": "code",
   "execution_count": 29,
   "id": "12cbbb02",
   "metadata": {
    "execution": {
     "iopub.execute_input": "2022-02-28T21:58:30.865272Z",
     "iopub.status.busy": "2022-02-28T21:58:30.863821Z",
     "iopub.status.idle": "2022-02-28T21:58:31.112436Z",
     "shell.execute_reply": "2022-02-28T21:58:31.113175Z",
     "shell.execute_reply.started": "2022-02-28T21:53:58.583831Z"
    },
    "papermill": {
     "duration": 0.293025,
     "end_time": "2022-02-28T21:58:31.113393",
     "exception": false,
     "start_time": "2022-02-28T21:58:30.820368",
     "status": "completed"
    },
    "tags": []
   },
   "outputs": [
    {
     "name": "stdout",
     "output_type": "stream",
     "text": [
      "[7.75757188e+010 9.31974927e+008 6.94032906e-310 9.09978773e+008\n",
      " 9.31974927e+008]\n"
     ]
    }
   ],
   "source": [
    "\n",
    "\n",
    "from cuml.metrics.regression import mean_squared_error\n",
    "mse = numpy.empty(shape=[5])\n",
    "mse[0]=(mean_squared_error(y_val, preds_eig))\n",
    "mse[1]=(mean_squared_error(y_val, preds_svd))\n",
    "# mse[2]=(mean_squared_error(y_val, preds_qr))\n",
    "mse[3]=(mean_squared_error(y_val, preds_svdqr))\n",
    "mse[4]=(mean_squared_error(y_val, preds_svdjac))\n",
    "print(mse)\n",
    "\n"
   ]
  },
  {
   "cell_type": "code",
   "execution_count": 30,
   "id": "e1f8123d",
   "metadata": {
    "execution": {
     "iopub.execute_input": "2022-02-28T21:58:31.199583Z",
     "iopub.status.busy": "2022-02-28T21:58:31.198761Z",
     "iopub.status.idle": "2022-02-28T21:58:31.203733Z",
     "shell.execute_reply": "2022-02-28T21:58:31.203229Z",
     "shell.execute_reply.started": "2022-02-28T21:54:38.498978Z"
    },
    "papermill": {
     "duration": 0.04964,
     "end_time": "2022-02-28T21:58:31.203866",
     "exception": false,
     "start_time": "2022-02-28T21:58:31.154226",
     "status": "completed"
    },
    "tags": []
   },
   "outputs": [],
   "source": [
    "y_val = y_val.astype(np.float64)\n",
    "preds_eig = preds_eig.astype(np.float64)\n",
    "preds_svd = preds_svd.astype(np.float64)\n",
    "preds_qr = preds_qr.astype(np.float64)\n",
    "preds_svdqr = preds_svdqr.astype(np.float64)\n",
    "preds_svdjac = preds_svdjac.astype(np.float64)"
   ]
  },
  {
   "cell_type": "code",
   "execution_count": 31,
   "id": "e86ecf51",
   "metadata": {
    "execution": {
     "iopub.execute_input": "2022-02-28T21:58:31.293397Z",
     "iopub.status.busy": "2022-02-28T21:58:31.292599Z",
     "iopub.status.idle": "2022-02-28T21:58:31.295710Z",
     "shell.execute_reply": "2022-02-28T21:58:31.296120Z",
     "shell.execute_reply.started": "2022-02-28T21:54:44.859244Z"
    },
    "papermill": {
     "duration": 0.053829,
     "end_time": "2022-02-28T21:58:31.296240",
     "exception": false,
     "start_time": "2022-02-28T21:58:31.242411",
     "status": "completed"
    },
    "tags": []
   },
   "outputs": [
    {
     "name": "stdout",
     "output_type": "stream",
     "text": [
      "[-1.21279849e+001  8.42283733e-001  6.94032906e-310  8.46006098e-001\n",
      "  8.42283733e-001]\n"
     ]
    }
   ],
   "source": [
    "from cuml.metrics.regression import r2_score\n",
    "r2 = numpy.empty(shape=[5])\n",
    "r2[0]=(r2_score(y_val, preds_eig))\n",
    "r2[1]=(r2_score(y_val, preds_svd))\n",
    "# r2[2]=(r2_score(y_val, preds_qr))\n",
    "r2[3]=(r2_score(y_val, preds_svdqr))\n",
    "r2[4]=(r2_score(y_val, preds_svdjac))\n",
    "print(r2)"
   ]
  },
  {
   "cell_type": "code",
   "execution_count": 32,
   "id": "3ce3cd64",
   "metadata": {
    "execution": {
     "iopub.execute_input": "2022-02-28T21:58:31.378534Z",
     "iopub.status.busy": "2022-02-28T21:58:31.377778Z",
     "iopub.status.idle": "2022-02-28T21:58:31.380315Z",
     "shell.execute_reply": "2022-02-28T21:58:31.379866Z",
     "shell.execute_reply.started": "2022-02-28T21:49:09.545482Z"
    },
    "papermill": {
     "duration": 0.045472,
     "end_time": "2022-02-28T21:58:31.380425",
     "exception": false,
     "start_time": "2022-02-28T21:58:31.334953",
     "status": "completed"
    },
    "tags": []
   },
   "outputs": [],
   "source": [
    "# import cuml\n",
    "# from cuml.metrics.regression import mean_squared_error,r2_score,mean_absolute_error\n",
    "# from cuml import LinearRegression\n",
    "# lr = LinearRegression(fit_intercept = True, normalize = False, algorithm = 'eig')\n",
    "# reg = lr.fit(X_train,y_train)\n",
    "# print(\"Coefficients:\")\n",
    "# print(reg.coef_)\n",
    "# print(\"Intercept:\")\n",
    "# print(reg.intercept_)\n",
    "# preds = lr.predict(X_test)\n",
    "# print(\"Predictions:\")\n",
    "# print(preds)\n",
    "# preds=preds.astype(np.int64)\n",
    "# print(\"MSE:\")\n",
    "# print(mean_squared_error(y_test,preds))\n",
    "# print(\"R2 Score:\")\n",
    "# preds=preds.astype(np.float64)\n",
    "# print(r2_score(y_test,preds))\n",
    "# print(\"MAE:\")\n",
    "# preds=preds.astype(np.int64)\n",
    "# print(mean_absolute_error(y_test,preds))"
   ]
  },
  {
   "cell_type": "code",
   "execution_count": 33,
   "id": "3989bc31",
   "metadata": {
    "execution": {
     "iopub.execute_input": "2022-02-28T21:58:31.461879Z",
     "iopub.status.busy": "2022-02-28T21:58:31.461248Z",
     "iopub.status.idle": "2022-02-28T21:58:31.463656Z",
     "shell.execute_reply": "2022-02-28T21:58:31.464160Z",
     "shell.execute_reply.started": "2022-02-28T21:49:09.547242Z"
    },
    "papermill": {
     "duration": 0.044549,
     "end_time": "2022-02-28T21:58:31.464278",
     "exception": false,
     "start_time": "2022-02-28T21:58:31.419729",
     "status": "completed"
    },
    "tags": []
   },
   "outputs": [],
   "source": [
    "# algorithm = ['svd', 'eig', 'qr', 'svd-qr', 'svd-jacobi']\n",
    "# for i in algorithm:\n",
    "#     print(\"Algorithm:\")\n",
    "#     print(i)\n",
    "#     lr = LinearRegression(fit_intercept = True, normalize = False, algorithm = i)\n",
    "#     reg = lr.fit(X_train,y_train)\n",
    "#     preds = lr.predict(X_test)\n",
    "#     print(\"MSE:\")\n",
    "#     print(cuml.metrics.regression.mean_squared_error(y_test,preds))\n",
    "#     print(\"R2 Score:\")\n",
    "#     print(cuml.metrics.regression.r2_score(y_test,preds))\n",
    "#     print(\"MAE:\")\n",
    "#     print(cuml.metrics.regression.mean_absolute_error(y_test,preds))"
   ]
  }
 ],
 "metadata": {
  "kernelspec": {
   "display_name": "Python 3",
   "language": "python",
   "name": "python3"
  },
  "language_info": {
   "codemirror_mode": {
    "name": "ipython",
    "version": 3
   },
   "file_extension": ".py",
   "mimetype": "text/x-python",
   "name": "python",
   "nbconvert_exporter": "python",
   "pygments_lexer": "ipython3",
   "version": "3.7.12"
  },
  "papermill": {
   "default_parameters": {},
   "duration": 30.30399,
   "end_time": "2022-02-28T21:58:32.813592",
   "environment_variables": {},
   "exception": null,
   "input_path": "__notebook__.ipynb",
   "output_path": "__notebook__.ipynb",
   "parameters": {},
   "start_time": "2022-02-28T21:58:02.509602",
   "version": "2.3.3"
  }
 },
 "nbformat": 4,
 "nbformat_minor": 5
}
